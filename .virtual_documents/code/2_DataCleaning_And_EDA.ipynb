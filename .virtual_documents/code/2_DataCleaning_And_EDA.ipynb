











pip install pandas-datareader


import pandas as pd
import numpy as np
import tensorflow as tf
from tensorflow.keras import layers, models
from sklearn.preprocessing import MinMaxScaler
import pandas_datareader as web
from datetime import datetime
import matplotlib.pyplot as plt
import seaborn as sns
from sklearn.metrics import confusion_matrix, classification_report, roc_curve, auc
import warnings
warnings.filterwarnings('ignore')


# Set random seeds for reproducibility
np.random.seed(42)
tf.random.set_seed(42)


# Define date range
start_date = datetime(1990, 1, 1)
end_date = datetime(2025, 4, 14)  # Current date





def fetch_recession_labels(start_date, end_date):
    """
    Creates binary recession labels based on NBER recession dates
    """
    # NBER recession periods (manually defined based on historical data up to 2023)
    recession_periods = [
        ('1990-07-01', '1991-03-31'),
        ('2001-03-01', '2001-11-30'),
        ('2007-12-01', '2009-06-30'),
        ('2020-02-01', '2020-04-30')
    ]
    
    print(f"Creating recession labels based on {len(recession_periods)} historical recession periods")
    
    dates = pd.date_range(start=start_date, end=end_date, freq='ME')
    labels = pd.Series(0, index=dates)
    
    for start, end in recession_periods:
        labels.loc[start:end] = 1
    
    return labels





# Fetch data and set 'DATE' as index
economic_indicators = pd.read_csv('../data/economic_indicators.csv', 
                                  index_col='DATE', 
                                  parse_dates=True)

# Display basic information
print("\nDataset shape:", economic_indicators.shape)
print("\nFirst 5 rows:")
print(economic_indicators.head())


# Fetch recession labels
recession_labels = fetch_recession_labels(start_date, 
                                          end_date)
recession_labels = recession_labels.reindex(economic_indicators.index, 
                                            method='ffill')


# Create a DataFrame with both data and labels for visualization
economic_indicators_with_labels = economic_indicators.copy()
economic_indicators_with_labels['Recession'] = recession_labels


# Calculate required rows based on number of indicators
num_indicators = len(economic_indicators.columns)
rows = int(np.ceil(num_indicators / 2))  # 2 columns, adjust rows dynamically


# Plot economic indicators
plt.figure(figsize=(15, 3.5 * rows))

for i, column in enumerate(economic_indicators.columns):
    plt.subplot(rows, 2, i+1)  # 2 columns, dynamic rows
    plt.plot(economic_indicators.index, economic_indicators[column], lw=1.5)
    
    # Highlight recession periods
    for start, end in [('1990-07-01', '1991-03-31'), 
                       ('2001-03-01', '2001-11-30'),
                       ('2007-12-01', '2009-06-30'),
                       ('2020-02-01', '2020-04-30')]:
        plt.axvspan(start, end, color='gray', alpha=0.2)
    
    plt.title(column.replace('_', ' ').title(), pad=8)
    plt.grid(alpha=0.2)

plt.tight_layout()
plt.suptitle("Economic Indicators with Recession Periods", y=1.02, fontsize=14)

# Save the plot to the images folder
plt.savefig('../images/economic_indicators_with_recession_periods.png', dpi=300, bbox_inches='tight')
plt.show() 





# Calculate correlation matrix and show only lower triangle with colorblind-friendly palette
plt.figure(figsize=(10, 8))
correlation = economic_indicators_with_labels.corr()
# Create a mask for the upper triangle
mask = np.triu(np.ones_like(correlation, dtype=bool))
# Use a colorblind-friendly colormap (viridis)
sns.heatmap(correlation, annot=True, cmap='viridis', fmt=".2f", linewidths=0.5, mask=mask)
plt.title('Correlation Matrix of Economic Indicators (Lower Triangle)')

# Save the plot to the images folder
plt.savefig('../images/correlation_matrix_economic_indicators.png', dpi=300, bbox_inches='tight')
plt.show();








# Summary statistics
print("\nSummary Statistics of Economic Indicators:")
print(economic_indicators.describe())


# Check for missing values
print("\nMissing Values in Each Column:")
print(economic_indicators.isnull().sum())


economic_indicators_with_labels.dtypes


# Plot distribution of key indicators
key_indicators = [
    'unemployment', 
    'GDP_Growth', 
    'fed_funds_rate', 
    'PPI', 
    'recession_probabilities', 
    'SP500',             
    'consumer_conf',     
    'industrial_prod',   
    'housing_starts',    
    'CPI'                
]

# Adjust subplot layout dynamically based on number of indicators
num_indicators = len(key_indicators)
cols = 3  # Set to 3 columns for better layout
rows = int(np.ceil(num_indicators / cols))  # Calculate required rows

plt.figure(figsize=(15, 5 * rows))  # Dynamic height based on rows
for i, indicator in enumerate(key_indicators, 1):
    plt.subplot(rows, cols, i)
    sns.histplot(economic_indicators[indicator].dropna(), bins=30, kde=True, color='tab:blue')
    plt.title(f'Distribution of {indicator.replace("_", " ").title()}')
    plt.xlabel(indicator.replace('_', ' ').title())
    plt.ylabel('Frequency')

plt.tight_layout()

# Save the plot to the images folder
plt.savefig('../images/distribution_of_key_indicators.png', dpi=300, bbox_inches='tight')
plt.show();








economic_indicators_with_labels = economic_indicators.copy()

# Define the recession periods
recession_periods = [
    ('1990-07-01', '1991-03-31'),
    ('2001-03-01', '2001-11-30'),
    ('2007-12-01', '2009-06-30'),
    ('2020-02-01', '2020-04-30')
]

# Apply recession labels
economic_indicators_with_labels['Recession'] = 0
for start, end in recession_periods:
    economic_indicators_with_labels.loc[
        (economic_indicators_with_labels.index >= start) &
        (economic_indicators_with_labels.index <= end), 'Recession'
    ] = 1

# Split into recession vs non-recession groups
recession_df = economic_indicators_with_labels[economic_indicators_with_labels['Recession'] == 1]
non_recession_df = economic_indicators_with_labels[economic_indicators_with_labels['Recession'] == 0]

# Define features to plot
features_to_plot = [
    ('SP500', 'S&P 500'),
    ('consumer_conf', 'Consumer Confidence'),
    ('industrial_prod', 'Industrial Production'),
    ('housing_starts', 'Housing Starts'),
    ('fed_funds_rate', 'Fed Funds Rate'),
    ('personal_consumption_expenses', 'Personal Consumption'),
    ('PPI', 'Producer Price Index'),
    ('CPI', 'CPI'),
    ('currency_strength', 'Currency Strength')
]

# Create subplots
fig, axs = plt.subplots(len(features_to_plot), 1, figsize=(12, 3.5 * len(features_to_plot)))
fig.suptitle("Relevant Features: Recession vs Non-Recession KDE Distributions", fontsize=16)

# Plot each feature
for i, (feature, label) in enumerate(features_to_plot):
    sns.kdeplot(non_recession_df[feature], ax=axs[i], label='Non-Recession')
    sns.kdeplot(recession_df[feature], ax=axs[i], label='Recession')
    axs[i].set_title(label)
    axs[i].legend()

plt.tight_layout(rect=[0, 0.03, 1, 0.95])

# Save the plot to the images folder
plt.savefig('images/recession_vs_non_recession_kde.png')
plt.show();











recession_df.head()


non_recession_df.head()


non_recession_df.info()


non_recession_df.isna().sum()


# 1. Impute missing values for yield_spread and SP500 with the mean
non_recession_df['yield_spread'].fillna(non_recession_df['yield_spread'].mean(), inplace=True)
non_recession_df['SP500'].fillna(non_recession_df['SP500'].mean(), inplace=True)

# 2. Handle missing values in currency_strength
#Impute with the mean
non_recession_df['currency_strength'].fillna(non_recession_df['currency_strength'].mean(), inplace=True)

# 3. Checks after computation
print(non_recession_df.isna().sum())

# 4. Checks to ensure data types are correct
non_recession_df['Recession'] = non_recession_df['Recession'].astype('category')

# 5. standardize scale for the numerical features
from sklearn.preprocessing import StandardScaler

scaler = StandardScaler()
columns_to_standardize = non_recession_df.select_dtypes(include=['float64']).columns
non_recession_df[columns_to_standardize] = scaler.fit_transform(non_recession_df[columns_to_standardize])

# Final check on missing values and data types
print(non_recession_df.info())



# 1. Impute missing values for yield_spread and SP500 with the mean
recession_df['yield_spread'].fillna(recession_df['yield_spread'].mean(), inplace=True)
recession_df['SP500'].fillna(recession_df['SP500'].mean(), inplace=True)

# 2. Handle missing values in currency_strength
#Impute with the mean
recession_df['currency_strength'].fillna(recession_df['currency_strength'].mean(), inplace=True)

# 3. Checks after computation
print(recession_df.isna().sum())

# 4. Check and ensure data types are correct
recession_df['Recession'] = recession_df['Recession'].astype('category')

# 5. standardize scale for the numerical features

scaler = StandardScaler()
columns_to_standardize = recession_df.select_dtypes(include=['float64']).columns
recession_df[columns_to_standardize] = scaler.fit_transform(recession_df[columns_to_standardize])

# checks after missing data
print(recession_df.info())


recession_df.head()


non_recession_df.head()
