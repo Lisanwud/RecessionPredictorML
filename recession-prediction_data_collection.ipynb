{
 "cells": [
  {
   "cell_type": "markdown",
   "metadata": {},
   "source": [
    "# Economic Indicators Data Collection"
   ]
  },
  {
   "cell_type": "markdown",
   "metadata": {},
   "source": [
    "## Setup and Imports"
   ]
  },
  {
   "cell_type": "code",
   "execution_count": 1,
   "metadata": {},
   "outputs": [],
   "source": [
    "# Import essential libraries for data handling, numerical operations, \n",
    "# and web data retrieval\n",
    "import pandas as pd\n",
    "import numpy as np\n",
    "from datetime import datetime\n",
    "import pandas_datareader as web"
   ]
  },
  {
   "cell_type": "markdown",
   "metadata": {},
   "source": [
    "## Set random seeds for reproducibility\n",
    "Establish random seeds to ensure consistent and reproducible results across executions"
   ]
  },
  {
   "cell_type": "code",
   "execution_count": 2,
   "metadata": {},
   "outputs": [],
   "source": [
    "# Set random seeds for reproducibility\n",
    "np.random.seed(42)"
   ]
  },
  {
   "cell_type": "markdown",
   "metadata": {},
   "source": [
    "## Define date range for the economic data collection\n",
    "Specify the temporal scope for collecting historical and current economic data"
   ]
  },
  {
   "cell_type": "code",
   "execution_count": 3,
   "metadata": {},
   "outputs": [],
   "source": [
    "# Define date range for the data collection\n",
    "start_date = datetime(1990, 1, 1)\n",
    "end_date = datetime(2025, 4, 1)  # Current date"
   ]
  },
  {
   "cell_type": "markdown",
   "metadata": {},
   "source": [
    "## Fetch Economic Indicators Data from FRED\n",
    "In this section, key economic indicators are fetched from FRED database and saved to CSV. A comprehensive set of macroeconomic indicators are included in the data collection."
   ]
  },
  {
   "cell_type": "code",
   "execution_count": 4,
   "metadata": {},
   "outputs": [],
   "source": [
    "def fetch_economic_data():\n",
    "    \"\"\"\n",
    "    Fetches economic indicators from FRED database and saves to CSV\n",
    "    \"\"\"\n",
    "    indicators = {\n",
    "        'UNRATE': 'unemployment',                     # Unemployment Rate\n",
    "        'T10Y2Y': 'yield_spread',                     # 10-Year minus 2-Year Yield Spread\n",
    "        'INDPRO': 'industrial_prod',                  # Industrial Production Index\n",
    "        'UMCSENT': 'consumer_conf',                   # Consumer Sentiment Index\n",
    "        'SP500': 'SP500',                             # S&P 500 Index\n",
    "        'USSLIND': 'LEI',                             # Leading Economic Index\n",
    "        'CPIAUCSL': 'CPI',                            # Consumer Price Index\n",
    "        'GDPC1': 'GDP_Growth',                        # Real GDP (quarterly, will interpolate)\n",
    "        'RECPROUSM156N': 'recession_probabilities',   # Recession Probabilities\n",
    "        'FEDFUNDS': 'fed_funds_rate',                 # Federal Funds Effective Rate\n",
    "        'TWEXB': 'currency_strength',                 # Trade Weighted U.S. Dollar Index\n",
    "        'HOUST': 'housing_starts',                    # Housing Starts\n",
    "        'PCEPI': 'personal_consumption_expenses'      # PCE Price Index\n",
    "    }\n",
    "    \n",
    "    print(f\"Fetching {len(indicators)} economic indicators from FRED...\")\n",
    "    \n",
    "    # Fetch data from FRED\n",
    "    data = web.DataReader(list(indicators.keys()), 'fred', start_date, end_date)\n",
    "    \n",
    "    # Rename columns for clarity\n",
    "    data.columns = [indicators[code] for code in indicators.keys()]\n",
    "    \n",
    "    # Convert quarterly GDP to monthly by interpolation\n",
    "    data['GDP_Growth'] = data['GDP_Growth'].interpolate(method='linear')\n",
    "    \n",
    "    # Forward fill missing values and only drop rows where ALL values are NaN\n",
    "    data = data.ffill().dropna(how='all')\n",
    "    \n",
    "    # Save to CSV\n",
    "    data.to_csv('data/economic_indicators.csv')\n",
    "    \n",
    "    print(f\"Data collected from {data. index.min()} to {data.index.max()}\")\n",
    "    print(\"Data saved to 'data/economic_indicators.csv'\")\n",
    "    \n",
    "    return data"
   ]
  },
  {
   "cell_type": "markdown",
   "metadata": {},
   "source": [
    "## Main Execution Function\n",
    "This section defines the `main()` function, which orchestrates the entire data collection workflow. It handles Reddit API authentication and data collection from specified subreddits."
   ]
  },
  {
   "cell_type": "code",
   "execution_count": 5,
   "metadata": {},
   "outputs": [
    {
     "name": "stdout",
     "output_type": "stream",
     "text": [
      "\n",
      "Dataset shape: (9318, 13)\n",
      "\n",
      "First 5 rows:\n",
      "            unemployment  yield_spread  industrial_prod  consumer_conf  SP500  \\\n",
      "DATE                                                                            \n",
      "1990-01-01           5.4           NaN          61.6352           93.0    NaN   \n",
      "1990-01-02           5.4          0.07          61.6352           93.0    NaN   \n",
      "1990-01-03           5.4          0.05          61.6352           93.0    NaN   \n",
      "1990-01-04           5.4          0.06          61.6352           93.0    NaN   \n",
      "1990-01-05           5.4          0.09          61.6352           93.0    NaN   \n",
      "\n",
      "             LEI    CPI    GDP_Growth  recession_probabilities  \\\n",
      "DATE                                                             \n",
      "1990-01-01  1.71  127.5  10047.386000                      0.2   \n",
      "1990-01-02  1.71  127.5  10047.947062                      0.2   \n",
      "1990-01-03  1.71  127.5  10048.508123                      0.2   \n",
      "1990-01-04  1.71  127.5  10049.069185                      0.2   \n",
      "1990-01-05  1.71  127.5  10049.630246                      0.2   \n",
      "\n",
      "            fed_funds_rate  currency_strength  housing_starts  \\\n",
      "DATE                                                            \n",
      "1990-01-01            8.23                NaN          1551.0   \n",
      "1990-01-02            8.23                NaN          1551.0   \n",
      "1990-01-03            8.23                NaN          1551.0   \n",
      "1990-01-04            8.23                NaN          1551.0   \n",
      "1990-01-05            8.23                NaN          1551.0   \n",
      "\n",
      "            personal_consumption_expenses  \n",
      "DATE                                       \n",
      "1990-01-01                         58.553  \n",
      "1990-01-02                         58.553  \n",
      "1990-01-03                         58.553  \n",
      "1990-01-04                         58.553  \n",
      "1990-01-05                         58.553  \n"
     ]
    }
   ],
   "source": [
    "def main():\n",
    "    # Fetch data and set 'DATE' as index\n",
    "    economic_indicators = pd.read_csv('./data/economic_indicators.csv', \n",
    "                                    index_col='DATE', \n",
    "                                    parse_dates=True)\n",
    "\n",
    "    # Display basic information\n",
    "    print(\"\\nDataset shape:\", economic_indicators.shape)\n",
    "    print(\"\\nFirst 5 rows:\")\n",
    "    print(economic_indicators.head())\n",
    "\n",
    "if __name__ == \"__main__\":\n",
    "    main()"
   ]
  }
 ],
 "metadata": {
  "kernelspec": {
   "display_name": "Python 3 (ipykernel)",
   "language": "python",
   "name": "python3"
  },
  "language_info": {
   "codemirror_mode": {
    "name": "ipython",
    "version": 3
   },
   "file_extension": ".py",
   "mimetype": "text/x-python",
   "name": "python",
   "nbconvert_exporter": "python",
   "pygments_lexer": "ipython3",
   "version": "3.11.11"
  }
 },
 "nbformat": 4,
 "nbformat_minor": 4
}
