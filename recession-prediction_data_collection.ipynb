{
 "cells": [
  {
   "cell_type": "markdown",
   "metadata": {},
   "source": [
    "# Economic Indicators Data Collection"
   ]
  },
  {
   "cell_type": "markdown",
   "metadata": {},
   "source": [
    "## Setup and Imports"
   ]
  },
  {
   "cell_type": "code",
   "execution_count": 1,
   "metadata": {
    "tags": []
   },
   "outputs": [],
   "source": [
    "# Import essential libraries for data handling, numerical operations, \n",
    "# and web data retrieval\n",
    "import pandas as pd\n",
    "import numpy as np\n",
    "from datetime import datetime\n",
    "import pandas_datareader as web\n",
    "import yfinance as yf"
   ]
  },
  {
   "cell_type": "markdown",
   "metadata": {},
   "source": [
    "## Set random seeds for reproducibility\n",
    "Establish random seeds to ensure consistent and reproducible results across executions"
   ]
  },
  {
   "cell_type": "code",
   "execution_count": 2,
   "metadata": {
    "tags": []
   },
   "outputs": [],
   "source": [
    "# Set random seeds for reproducibility\n",
    "np.random.seed(42)"
   ]
  },
  {
   "cell_type": "markdown",
   "metadata": {},
   "source": [
    "## Define date range for the economic data collection\n",
    "Specify the temporal scope for collecting historical and current economic data"
   ]
  },
  {
   "cell_type": "code",
   "execution_count": 3,
   "metadata": {
    "tags": []
   },
   "outputs": [],
   "source": [
    "# Define date range for the data collection\n",
    "start_date = datetime(1990, 1, 1)\n",
    "end_date = datetime(2025, 4, 9)  # Recent date"
   ]
  },
  {
   "cell_type": "markdown",
   "metadata": {},
   "source": [
    "## Fetch Economic Indicators Data from FRED\n",
    "In this section, key economic indicators are fetched from FRED database and saved to CSV. A comprehensive set of macroeconomic indicators are included in the data collection."
   ]
  },
  {
   "cell_type": "code",
   "execution_count": 4,
   "metadata": {
    "tags": []
   },
   "outputs": [],
   "source": [
    "def fetch_economic_data():\n",
    "    \"\"\"\n",
    "    Fetches economic indicators from FRED and S&P 500 from Yahoo Finance, then saves to CSV.\n",
    "    \"\"\"\n",
    "    indicators = {\n",
    "        'UNRATE': 'unemployment',                     # Unemployment Rate\n",
    "        'T10Y2Y': 'yield_spread',                     # 10-Year minus 2-Year Yield Spread\n",
    "        'INDPRO': 'industrial_prod',                  # Industrial Production Index\n",
    "        'UMCSENT': 'consumer_conf',                   # Consumer Sentiment Index\n",
    "        'USSLIND': 'LEI',                             # Leading Economic Index\n",
    "        'CPIAUCSL': 'CPI',                            # Consumer Price Index\n",
    "        'GDPC1': 'GDP_Growth',                        # Real GDP (quarterly, will interpolate)\n",
    "        'RECPROUSM156N': 'recession_probabilities',   # Recession Probabilities\n",
    "        'FEDFUNDS': 'fed_funds_rate',                 # Federal Funds Effective Rate\n",
    "        'TWEXB': 'currency_strength',                 # Trade Weighted U.S. Dollar Index\n",
    "        'HOUST': 'housing_starts',                    # Housing Starts\n",
    "        'PCEPI': 'personal_consumption_expenses',     # PCE Price Index\n",
    "        'PPIACO': 'PPI'                               # Producer Price Index\n",
    "    }\n",
    "\n",
    "    print(f\"Fetching {len(indicators)} economic indicators from FRED...\")\n",
    "\n",
    "    # Fetch macro indicators from FRED\n",
    "    fred_data = web.DataReader(list(indicators.keys()), 'fred', start_date, end_date)\n",
    "    fred_data.columns = [indicators[k] for k in indicators.keys()]\n",
    "\n",
    "    # Interpolate quarterly GDP to daily\n",
    "    fred_data['GDP_Growth'] = fred_data['GDP_Growth'].interpolate(method='linear')\n",
    "\n",
    "    # Fetch S&P 500 from Yahoo Finance\n",
    "    print(\"Fetching S&P 500 data from Yahoo Finance...\")\n",
    "    sp500 = yf.download('^GSPC', start=start_date, end=end_date, group_by='column')\n",
    "    sp500.index = sp500.index.normalize()  # Align timestamp to date only (remove time)\n",
    "    sp500.columns = ['_'.join(col).strip() if isinstance(col, tuple) else col for col in sp500.columns.values]\n",
    "    sp500 = sp500[['Close_^GSPC']].rename(columns={'Close_^GSPC': 'SP500'})\n",
    "    \n",
    "\n",
    "\n",
    "    # Merge on date\n",
    "    combined = fred_data.join(sp500, how='left')\n",
    "\n",
    "    # Forward-fill and clean\n",
    "    combined = combined.ffill().dropna(how='all')\n",
    "\n",
    "    # Save to CSV\n",
    "    combined.index.name = 'DATE'\n",
    "    combined.to_csv('data/economic_indicators.csv')\n",
    "\n",
    "    print(f\"Data collected from {combined.index.min()} to {combined.index.max()}\")\n",
    "    print(\"Data saved to 'data/economic_indicators.csv'\")\n",
    "\n",
    "    return combined"
   ]
  },
  {
   "cell_type": "markdown",
   "metadata": {},
   "source": [
    "## Main Execution Function\n",
    "This section defines the `main()` function, which orchestrates the entire data collection workflow. It handles Reddit API authentication and data collection from specified subreddits."
   ]
  },
  {
   "cell_type": "code",
   "execution_count": 5,
   "metadata": {
    "tags": []
   },
   "outputs": [
    {
     "name": "stdout",
     "output_type": "stream",
     "text": [
      "Fetching 13 economic indicators from FRED...\n",
      "Fetching S&P 500 data from Yahoo Finance...\n",
      "YF.download() has changed argument auto_adjust default to True\n"
     ]
    },
    {
     "name": "stderr",
     "output_type": "stream",
     "text": [
      "[*********************100%***********************]  1 of 1 completed"
     ]
    },
    {
     "name": "stdout",
     "output_type": "stream",
     "text": [
      "Data collected from 1990-01-01 00:00:00 to 2025-04-08 00:00:00\n",
      "Data saved to 'data/economic_indicators.csv'\n",
      "\n",
      "Dataset shape: (9323, 14)\n",
      "\n",
      "First 5 rows:\n",
      "            unemployment  yield_spread  industrial_prod  consumer_conf   LEI  \\\n",
      "DATE                                                                           \n",
      "1990-01-01           5.4           NaN          61.6352           93.0  1.71   \n",
      "1990-01-02           5.4          0.07          61.6352           93.0  1.71   \n",
      "1990-01-03           5.4          0.05          61.6352           93.0  1.71   \n",
      "1990-01-04           5.4          0.06          61.6352           93.0  1.71   \n",
      "1990-01-05           5.4          0.09          61.6352           93.0  1.71   \n",
      "\n",
      "              CPI    GDP_Growth  recession_probabilities  fed_funds_rate  \\\n",
      "DATE                                                                       \n",
      "1990-01-01  127.5  10047.386000                     0.18            8.23   \n",
      "1990-01-02  127.5  10047.947062                     0.18            8.23   \n",
      "1990-01-03  127.5  10048.508123                     0.18            8.23   \n",
      "1990-01-04  127.5  10049.069185                     0.18            8.23   \n",
      "1990-01-05  127.5  10049.630246                     0.18            8.23   \n",
      "\n",
      "            currency_strength  housing_starts  personal_consumption_expenses  \\\n",
      "DATE                                                                           \n",
      "1990-01-01                NaN          1551.0                         58.553   \n",
      "1990-01-02                NaN          1551.0                         58.553   \n",
      "1990-01-03                NaN          1551.0                         58.553   \n",
      "1990-01-04                NaN          1551.0                         58.553   \n",
      "1990-01-05                NaN          1551.0                         58.553   \n",
      "\n",
      "              PPI       SP500  \n",
      "DATE                           \n",
      "1990-01-01  114.9         NaN  \n",
      "1990-01-02  114.9  359.690002  \n",
      "1990-01-03  114.9  358.760010  \n",
      "1990-01-04  114.9  355.670013  \n",
      "1990-01-05  114.9  352.200012  \n"
     ]
    },
    {
     "name": "stderr",
     "output_type": "stream",
     "text": [
      "\n"
     ]
    }
   ],
   "source": [
    "def main():\n",
    "    # Call the fetch function to download and save data\n",
    "    fetch_economic_data()\n",
    "\n",
    "    # Now load the newly saved CSV\n",
    "    economic_indicators = pd.read_csv('./data/economic_indicators.csv', \n",
    "                                      index_col='DATE', \n",
    "                                      parse_dates=True)\n",
    "\n",
    "    # Display basic information\n",
    "    print(\"\\nDataset shape:\", economic_indicators.shape)\n",
    "    print(\"\\nFirst 5 rows:\")\n",
    "    print(economic_indicators.head())\n",
    "\n",
    "if __name__ == \"__main__\":\n",
    "    main()\n"
   ]
  }
 ],
 "metadata": {
  "kernelspec": {
   "display_name": "Python 3 (ipykernel)",
   "language": "python",
   "name": "python3"
  },
  "language_info": {
   "codemirror_mode": {
    "name": "ipython",
    "version": 3
   },
   "file_extension": ".py",
   "mimetype": "text/x-python",
   "name": "python",
   "nbconvert_exporter": "python",
   "pygments_lexer": "ipython3",
   "version": "3.11.11"
  }
 },
 "nbformat": 4,
 "nbformat_minor": 4
}
